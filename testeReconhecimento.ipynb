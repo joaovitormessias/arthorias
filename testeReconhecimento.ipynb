{
 "cells": [
  {
   "cell_type": "code",
   "execution_count": 1,
   "metadata": {},
   "outputs": [],
   "source": [
    "import cv2\n",
    "import mediapipe as mp"
   ]
  },
  {
   "cell_type": "markdown",
   "metadata": {},
   "source": [
    "## Leitura dos pontos do corpo"
   ]
  },
  {
   "cell_type": "code",
   "execution_count": 2,
   "metadata": {},
   "outputs": [],
   "source": [
    "mp_pose = mp.solutions.pose\n",
    "pose = mp_pose.Pose()\n",
    "mp_mao = mp.solutions.hands\n",
    "mao = mp_mao.Hands()\n",
    "mp_draw = mp.solutions.drawing_utils"
   ]
  },
  {
   "cell_type": "markdown",
   "metadata": {},
   "source": [
    "# Captura da imagem"
   ]
  },
  {
   "cell_type": "code",
   "execution_count": null,
   "metadata": {},
   "outputs": [],
   "source": [
    "def processamento_pontos_corpo(frame, pontos_pose):\n",
    "    h,w,_ = frame.shape\n",
    "    pontos_corpo = []  \n",
    "\n",
    "    mp_draw.draw_landmarks(frame, pontos_pose, mp_pose.POSE_CONNECTIONS)\n",
    "\n",
    "    for id, cord in enumerate(pontos_pose.landmark):\n",
    "        cx, cy = int(cord.x * w), int(cord.y * h)\n",
    "        cv2.circle(frame, (cx,cy), 4, (255,0,0), -1)\n",
    "        pontos_corpo.append((cx, cy))\n",
    "\n",
    "    return pontos_corpo"
   ]
  },
  {
   "cell_type": "code",
   "execution_count": 4,
   "metadata": {},
   "outputs": [],
   "source": [
    "def processamento_pontos_mao(frame,pontos_mao):\n",
    "    h, w, _ = frame.shape\n",
    "    pontos = []\n",
    "\n",
    "    for points in pontos_mao:\n",
    "        mp_draw.draw_landmarks(frame, points, mp_mao.HAND_CONNECTIONS)\n",
    "\n",
    "        for id, cord in enumerate(points.landmark):\n",
    "            cx, cy = int(cord.x * w), int(cord.y * h)\n",
    "            cv2.circle(frame, (cx, cy), 4, (255,0,0), -1)\n",
    "            pontos.append((cx,cy))\n",
    "\n",
    "    return pontos"
   ]
  },
  {
   "cell_type": "code",
   "execution_count": null,
   "metadata": {},
   "outputs": [],
   "source": [
    "cap = cv2.VideoCapture(0, cv2.CAP_DSHOW)\n",
    "\n",
    "while True:\n",
    "    sucesso, frame = cap.read()\n",
    "    if not sucesso:\n",
    "        print(\"Falha ao capturar imagem\")\n",
    "        break\n",
    "\n",
    "    frame_rgb = cv2.cvtColor(frame, cv2.COLOR_BGR2RGB)\n",
    "    resultados_pose = pose.process(frame_rgb)\n",
    "    resultados_mao = mao.process(frame_rgb)\n",
    "    \n",
    "    if resultados_mao.multi_hand_landmarks:\n",
    "        pontos_mao = processamento_pontos_mao(frame, resultados_mao.multi_hand_landmarks)\n",
    "    \n",
    "\n",
    "    if resultados_pose.pose_landmarks:\n",
    "        pontos_corpo = processamento_pontos_corpo(frame, resultados_pose.pose_landmarks)\n",
    "\n",
    "    cv2.imshow('Imagem', frame)\n",
    "\n",
    "    if cv2.waitKey(1) & 0xFF == ord('q'):\n",
    "        break\n",
    "\n",
    "cap.release()\n",
    "cv2.destroyAllWindows()"
   ]
  },
  {
   "cell_type": "code",
   "execution_count": 1,
   "metadata": {},
   "outputs": [],
   "source": [
    "import cv2\n",
    "import mediapipe as mp\n",
    "mp_drawing = mp.solutions.drawing_utils\n",
    "mp_drawing_styles = mp.solutions.drawing_styles\n",
    "mp_hands = mp.solutions.hands\n",
    "\n",
    "cap = cv2.VideoCapture(0)\n",
    "with mp_hands.Hands(\n",
    "    model_complexity=0,\n",
    "    min_detection_confidence=0.5,\n",
    "    min_tracking_confidence=0.5) as hands:\n",
    "  while cap.isOpened():\n",
    "    success, image = cap.read()\n",
    "    if not success:\n",
    "      print(\"Ignoring empty camera frame.\")\n",
    "      # If loading a video, use 'break' instead of 'continue'.\n",
    "      continue\n",
    "\n",
    "    # To improve performance, optionally mark the image as not writeable to\n",
    "    # pass by reference.\n",
    "    image.flags.writeable = False\n",
    "    image = cv2.cvtColor(image, cv2.COLOR_BGR2RGB)\n",
    "    results = hands.process(image)\n",
    "\n",
    "    # Draw the hand annotations on the image.\n",
    "    image.flags.writeable = True\n",
    "    image = cv2.cvtColor(image, cv2.COLOR_RGB2BGR)\n",
    "    if results.multi_hand_landmarks:\n",
    "      for hand_landmarks in results.multi_hand_landmarks:\n",
    "        mp_drawing.draw_landmarks(\n",
    "            image,\n",
    "            hand_landmarks,\n",
    "            mp_hands.HAND_CONNECTIONS,\n",
    "            mp_drawing_styles.get_default_hand_landmarks_style(),\n",
    "            mp_drawing_styles.get_default_hand_connections_style())\n",
    "    # Flip the image horizontally for a selfie-view display.\n",
    "    cv2.imshow('MediaPipe Hands', cv2.flip(image, 1))\n",
    "    if cv2.waitKey(1) & 0xFF == ord('q'):\n",
    "      break\n",
    "cap.release()\n",
    "cv2.destroyAllWindows()"
   ]
  },
  {
   "cell_type": "code",
   "execution_count": null,
   "metadata": {},
   "outputs": [],
   "source": []
  }
 ],
 "metadata": {
  "kernelspec": {
   "display_name": "env",
   "language": "python",
   "name": "python3"
  },
  "language_info": {
   "codemirror_mode": {
    "name": "ipython",
    "version": 3
   },
   "file_extension": ".py",
   "mimetype": "text/x-python",
   "name": "python",
   "nbconvert_exporter": "python",
   "pygments_lexer": "ipython3",
   "version": "3.12.9"
  }
 },
 "nbformat": 4,
 "nbformat_minor": 2
}
